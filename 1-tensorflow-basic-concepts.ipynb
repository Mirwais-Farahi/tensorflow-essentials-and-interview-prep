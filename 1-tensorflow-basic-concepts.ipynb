{
  "cells": [
    {
      "cell_type": "markdown",
      "metadata": {
        "id": "NIeOPU_JgeF7"
      },
      "source": [
        "## Core TensorFlow Concepts"
      ]
    },
    {
      "cell_type": "markdown",
      "source": [
        "### 🔷 1. Tensors\n",
        "➤ What is a Tensor?\n",
        "- A Tensor is the central unit of data in TensorFlow. It’s a multi-dimensional array with a uniform data type.\n",
        "\n",
        "| Attribute | Meaning                | Example                                     |\n",
        "| --------- | ---------------------- | ------------------------------------------- |\n",
        "| **Rank**  | Number of dimensions   | 0D (scalar), 1D (vector), 2D (matrix), etc. |\n",
        "| **Shape** | Size in each dimension | `(3,)`, `(2, 3)`, `(4, 2, 5)`               |\n",
        "| **Dtype** | Data type              | `tf.float32`, `tf.int64`, etc.              |\n"
      ],
      "metadata": {
        "id": "c85WDNNmg6BD"
      }
    },
    {
      "cell_type": "code",
      "source": [
        "import tensorflow as tf\n",
        "\n",
        "scalar = tf.constant(5)                         # Rank 0\n",
        "vector = tf.constant([1.0, 2.0, 3.0])            # Rank 1\n",
        "matrix = tf.constant([[1, 2], [3, 4]])           # Rank 2\n",
        "tensor3d = tf.constant([[[1], [2]], [[3], [4]]]) # Rank 3\n",
        "\n",
        "print(scalar.shape)     # ()\n",
        "print(vector.shape)     # (3,)\n",
        "print(matrix.shape)     # (2, 2)\n",
        "print(tensor3d.shape)   # (2, 2, 1)"
      ],
      "metadata": {
        "colab": {
          "base_uri": "https://localhost:8080/"
        },
        "id": "0GPxd-TJgzIN",
        "outputId": "5e5bc486-2481-443e-abea-0f49e185185c"
      },
      "execution_count": 3,
      "outputs": [
        {
          "output_type": "stream",
          "name": "stdout",
          "text": [
            "()\n",
            "(3,)\n",
            "(2, 2)\n",
            "(2, 2, 1)\n"
          ]
        }
      ]
    },
    {
      "cell_type": "markdown",
      "source": [
        "### 🔷 2. Tensor Operations\n",
        "- TensorFlow provides a wide range of operations you can perform on tensors."
      ],
      "metadata": {
        "id": "NaeLp17GipHC"
      }
    },
    {
      "cell_type": "code",
      "source": [
        "# ➤ Basic Math:\n",
        "a = tf.constant([1, 2, 3])\n",
        "b = tf.constant([4, 5, 6])\n",
        "print(tf.add(a, b))  # [5, 7, 9]\n",
        "print(tf.multiply(a, b))  # [4, 10, 18]"
      ],
      "metadata": {
        "colab": {
          "base_uri": "https://localhost:8080/"
        },
        "id": "EymtZsqRhQs_",
        "outputId": "932c67fb-93eb-4e2f-e078-238e63c43a36"
      },
      "execution_count": 5,
      "outputs": [
        {
          "output_type": "stream",
          "name": "stdout",
          "text": [
            "tf.Tensor([5 7 9], shape=(3,), dtype=int32)\n",
            "tf.Tensor([ 4 10 18], shape=(3,), dtype=int32)\n"
          ]
        }
      ]
    },
    {
      "cell_type": "code",
      "source": [],
      "metadata": {
        "id": "6zH4SJjtjAOU"
      },
      "execution_count": null,
      "outputs": []
    }
  ],
  "metadata": {
    "kernelspec": {
      "display_name": "base",
      "language": "python",
      "name": "python3"
    },
    "language_info": {
      "codemirror_mode": {
        "name": "ipython",
        "version": 3
      },
      "file_extension": ".py",
      "mimetype": "text/x-python",
      "name": "python",
      "nbconvert_exporter": "python",
      "pygments_lexer": "ipython3",
      "version": "3.11.5"
    },
    "colab": {
      "provenance": []
    }
  },
  "nbformat": 4,
  "nbformat_minor": 0
}